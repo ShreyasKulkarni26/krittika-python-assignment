{
  "nbformat": 4,
  "nbformat_minor": 0,
  "metadata": {
    "colab": {
      "provenance": [],
      "authorship_tag": "ABX9TyOu/S4/fojpNZhqCv7hyQLe",
      "include_colab_link": true
    },
    "kernelspec": {
      "name": "python3",
      "display_name": "Python 3"
    },
    "language_info": {
      "name": "python"
    }
  },
  "cells": [
    {
      "cell_type": "markdown",
      "metadata": {
        "id": "view-in-github",
        "colab_type": "text"
      },
      "source": [
        "<a href=\"https://colab.research.google.com/github/ShreyasKulkarni26/krittika-python-assignment/blob/main/Portfolio_optimization.ipynb\" target=\"_parent\"><img src=\"https://colab.research.google.com/assets/colab-badge.svg\" alt=\"Open In Colab\"/></a>"
      ]
    },
    {
      "cell_type": "code",
      "execution_count": null,
      "metadata": {
        "id": "c2-8i55lZffj"
      },
      "outputs": [],
      "source": [
        "import yfinance as yf\n",
        "import pandas as pd\n",
        "from datetime import datetime, timedelta\n",
        "from scipy.optimize import minimize\n",
        "import numpy as np"
      ]
    },
    {
      "cell_type": "code",
      "source": [
        "tickers = ['SPY','BND','GLD','QQQ']\n",
        "end_date = datetime.today()\n",
        "start_date = end_date - timedelta(days = 10*365)\n",
        "print(start_date)"
      ],
      "metadata": {
        "colab": {
          "base_uri": "https://localhost:8080/"
        },
        "id": "KR6xjZN6amlS",
        "outputId": "a0efab11-bfb2-4fbb-815a-fb27181f5e11"
      },
      "execution_count": null,
      "outputs": [
        {
          "output_type": "stream",
          "name": "stdout",
          "text": [
            "2013-10-02 15:20:29.189283\n"
          ]
        }
      ]
    },
    {
      "cell_type": "code",
      "source": [
        "df = pd.DataFrame()"
      ],
      "metadata": {
        "id": "n3899nEpavnJ"
      },
      "execution_count": null,
      "outputs": []
    },
    {
      "cell_type": "code",
      "source": [
        "for ticker in tickers:\n",
        "  data=yf.download(ticker, start = start_date, end = end_date)\n",
        "  df[ticker]=data['Adj Close']\n",
        "print(df)"
      ],
      "metadata": {
        "colab": {
          "base_uri": "https://localhost:8080/"
        },
        "id": "Te61qNGXb64D",
        "outputId": "158ceaff-df18-47c0-ea17-7accb4877db4"
      },
      "execution_count": null,
      "outputs": [
        {
          "output_type": "stream",
          "name": "stdout",
          "text": [
            "[*********************100%%**********************]  1 of 1 completed\n",
            "[*********************100%%**********************]  1 of 1 completed\n",
            "[*********************100%%**********************]  1 of 1 completed\n",
            "[*********************100%%**********************]  1 of 1 completed\n",
            "                   SPY        BND         GLD         QQQ\n",
            "Date                                                     \n",
            "2013-10-02  141.008347  62.056065  127.059998   72.983177\n",
            "2013-10-03  139.708099  62.086807  127.180000   72.131012\n",
            "2013-10-04  140.766693  62.017635  126.529999   72.754112\n",
            "2013-10-07  139.549774  62.063747  127.639999   72.149345\n",
            "2013-10-08  137.924500  62.040661  127.400002   70.756569\n",
            "...                ...        ...         ...         ...\n",
            "2023-09-25  432.230011  69.949997  177.699997  359.609985\n",
            "2023-09-26  425.880005  69.879997  176.279999  354.209991\n",
            "2023-09-27  426.049988  69.629997  174.100006  355.040009\n",
            "2023-09-28  428.519989  69.809998  173.229996  358.010010\n",
            "2023-09-29  427.480011  69.779999  171.449997  358.269989\n",
            "\n",
            "[2516 rows x 4 columns]\n"
          ]
        }
      ]
    },
    {
      "cell_type": "code",
      "source": [
        "log_returns = np.log(df/df.shift(1))\n",
        "log_returns = log_returns.dropna()\n",
        "print(log_returns)"
      ],
      "metadata": {
        "colab": {
          "base_uri": "https://localhost:8080/"
        },
        "id": "-PpIyPo_cbf-",
        "outputId": "3330c66f-eb54-44c1-8cb4-39ea21545f37"
      },
      "execution_count": null,
      "outputs": [
        {
          "output_type": "stream",
          "name": "stdout",
          "text": [
            "                 SPY       BND       GLD       QQQ\n",
            "Date                                              \n",
            "2013-10-03 -0.009264  0.000495  0.000944 -0.011745\n",
            "2013-10-04  0.007549 -0.001115 -0.005124  0.008601\n",
            "2013-10-07 -0.008683  0.000743  0.008734 -0.008347\n",
            "2013-10-08 -0.011715 -0.000372 -0.001882 -0.019493\n",
            "2013-10-09  0.000725 -0.000619 -0.010177 -0.003113\n",
            "...              ...       ...       ...       ...\n",
            "2023-09-25  0.004196 -0.007406 -0.005164  0.004739\n",
            "2023-09-26 -0.014800 -0.001001 -0.008023 -0.015130\n",
            "2023-09-27  0.000399 -0.003584 -0.012444  0.002341\n",
            "2023-09-28  0.005781  0.002582 -0.005010  0.008330\n",
            "2023-09-29 -0.002430 -0.000430 -0.010329  0.000726\n",
            "\n",
            "[2515 rows x 4 columns]\n"
          ]
        }
      ]
    },
    {
      "cell_type": "code",
      "source": [
        "cov_matrix = log_returns.cov()*252\n",
        "#252 to annualise the value\n",
        "print(cov_matrix)"
      ],
      "metadata": {
        "colab": {
          "base_uri": "https://localhost:8080/"
        },
        "id": "pM-_UgDxl41M",
        "outputId": "25559d5c-b4c2-48fe-a112-dace75e08242"
      },
      "execution_count": null,
      "outputs": [
        {
          "output_type": "stream",
          "name": "stdout",
          "text": [
            "          SPY       BND       GLD       QQQ\n",
            "SPY  0.030835  0.000755  0.000410  0.035070\n",
            "BND  0.000755  0.002605  0.002636  0.001062\n",
            "GLD  0.000410  0.002636  0.020120  0.000916\n",
            "QQQ  0.035070  0.001062  0.000916  0.046260\n"
          ]
        }
      ]
    },
    {
      "cell_type": "markdown",
      "source": [
        "Now the standard deviation of the portfolio which gives us the combined liquidity/risk of the entire portfolio"
      ],
      "metadata": {
        "id": "jCCSmLDumZwn"
      }
    },
    {
      "cell_type": "code",
      "source": [
        "def standard_dev(weights,cov_matrix):\n",
        "  variance = weights.T @ cov_matrix @ weights\n",
        "  return(np.sqrt(variance))"
      ],
      "metadata": {
        "id": "31lOMNFtmhoQ"
      },
      "execution_count": null,
      "outputs": []
    },
    {
      "cell_type": "markdown",
      "source": [
        "Calculate the expected returns from the past returns"
      ],
      "metadata": {
        "id": "H23bLhQcm7Vw"
      }
    },
    {
      "cell_type": "code",
      "source": [
        "def expected_return(weights,log_returns):\n",
        "  return np.sum(log_returns.mean()*weights)*252"
      ],
      "metadata": {
        "id": "C01Kw1Utm-h9"
      },
      "execution_count": null,
      "outputs": []
    },
    {
      "cell_type": "markdown",
      "source": [
        "Find the Sharpe Ratio -> (Portfolio Return - Risk Free Rate) / (Standard deviation)"
      ],
      "metadata": {
        "id": "R675M9e1nhU8"
      }
    },
    {
      "cell_type": "code",
      "source": [
        "def sharpe(weights, log_returns, cov_matrix,risk_free_rate):\n",
        "  return((expected_return(weights, log_returns)-risk_free_rate)/standard_dev(weights, cov_matrix))"
      ],
      "metadata": {
        "id": "Veyp0lOcnnXf"
      },
      "execution_count": null,
      "outputs": []
    },
    {
      "cell_type": "code",
      "source": [
        "risk_free_rate=0.0459 #from the fed"
      ],
      "metadata": {
        "id": "tcRRA3McoJBS"
      },
      "execution_count": null,
      "outputs": []
    },
    {
      "cell_type": "code",
      "source": [
        "def neg_sharpe(weights, log_returns, cov_matrix,risk_free_rate):\n",
        "  return -sharpe(weights, log_returns, cov_matrix,risk_free_rate)\n",
        "constraints = {'type':'eq','fun':lambda weights: np.sum(weights) - 1}\n",
        "bounds = [(0,0.5) for _ in range(len(tickers))]"
      ],
      "metadata": {
        "id": "FXB-5lh8oeMn"
      },
      "execution_count": null,
      "outputs": []
    },
    {
      "cell_type": "code",
      "source": [
        "initial_weights = np.array([1/len(tickers)]*len(tickers))\n",
        "print(initial_weights)"
      ],
      "metadata": {
        "colab": {
          "base_uri": "https://localhost:8080/"
        },
        "id": "lB1YZeGVp4Mz",
        "outputId": "8c4c0bc1-607e-470c-932b-33c0bb343c9f"
      },
      "execution_count": null,
      "outputs": [
        {
          "output_type": "stream",
          "name": "stdout",
          "text": [
            "[0.25 0.25 0.25 0.25]\n"
          ]
        }
      ]
    },
    {
      "cell_type": "code",
      "source": [
        "optimized_results = minimize(neg_sharpe, initial_weights, args = (log_returns, cov_matrix, risk_free_rate), method = 'SLSQP',constraints = constraints, bounds = bounds)\n"
      ],
      "metadata": {
        "id": "oh5I9NOvqGjA"
      },
      "execution_count": null,
      "outputs": []
    },
    {
      "cell_type": "code",
      "source": [
        "optimal_weights = optimized_results.x"
      ],
      "metadata": {
        "id": "cO_afdA3q1t1"
      },
      "execution_count": null,
      "outputs": []
    },
    {
      "cell_type": "code",
      "source": [
        "print(\"Optimal Weights:\")\n",
        "for ticker, weight in zip(tickers, optimal_weights):\n",
        "    print(f\"{ticker}: {weight:.4f}\")\n",
        "\n",
        "optimal_portfolio_return = expected_return(optimal_weights, log_returns)\n",
        "optimal_portfolio_volatility = standard_dev(optimal_weights, cov_matrix)\n",
        "optimal_sharpe_ratio = sharpe(optimal_weights, log_returns, cov_matrix, risk_free_rate)\n",
        "\n",
        "print(f\"Expected Annual Return: {optimal_portfolio_return:.4f}\")\n",
        "print(f\"Expected Volatility: {optimal_portfolio_volatility:.4f}\")\n",
        "print(f\"Sharpe Ratio: {optimal_sharpe_ratio:.4f}\")"
      ],
      "metadata": {
        "colab": {
          "base_uri": "https://localhost:8080/"
        },
        "id": "nMzAl6GJrG5f",
        "outputId": "57c49079-caa1-400f-a645-0651943177c2"
      },
      "execution_count": null,
      "outputs": [
        {
          "output_type": "stream",
          "name": "stdout",
          "text": [
            "Optimal Weights:\n",
            "SPY: 0.5000\n",
            "BND: 0.0000\n",
            "GLD: 0.0000\n",
            "QQQ: 0.5000\n",
            "Expected Annual Return: 0.1353\n",
            "Expected Volatility: 0.1919\n",
            "Sharpe Ratio: 0.4658\n"
          ]
        }
      ]
    },
    {
      "cell_type": "code",
      "source": [
        "import matplotlib.pyplot as plt\n",
        "\n",
        "plt.figure(figsize=(10, 6))\n",
        "plt.bar(tickers, optimal_weights)\n",
        "\n",
        "plt.xlabel('Assets')\n",
        "plt.ylabel('Optimal Weights')\n",
        "plt.title('Optimal Portfolio Weights')\n",
        "\n",
        "plt.show()"
      ],
      "metadata": {
        "colab": {
          "base_uri": "https://localhost:8080/",
          "height": 564
        },
        "id": "IOOYUuhWrLQD",
        "outputId": "4a99b2ce-f653-47c5-cea7-5e09083bde38"
      },
      "execution_count": null,
      "outputs": [
        {
          "output_type": "display_data",
          "data": {
            "text/plain": [
              "<Figure size 1000x600 with 1 Axes>"
            ],
            "image/png": "[encoded data removed]"
          },
          "metadata": {}
        }
      ]
    }
  ]
}