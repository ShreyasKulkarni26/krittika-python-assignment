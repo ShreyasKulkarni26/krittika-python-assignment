{
 "cells": [
  {
   "cell_type": "code",
   "execution_count": 1,
   "id": "44d32357",
   "metadata": {},
   "outputs": [
    {
     "name": "stdout",
     "output_type": "stream",
     "text": [
      "Team2022AdvaitMehlaManagerRakshaMaheshwariSecretaryConvenersTamojeetConvenerShleshConvenerDhananjayConvenerApoorvaConvenerAnushikaConvenerMayankConvenerPalEnthusiastAshwinEnthusiastGarvEnthusiastHarshavardhanEnthusiastNavdhaEnthusiastRaviEnthusiastShravyaEnthusiastArhaanEnthusiastTeam2021MananSethSecretaryConvenersAdishConvenerUtkarshaConvenerAdvaitConvenerAdityaKudreConvenerAdityaMaheshwariConvenerRakshaConvenerMohitConvenerKishanConvenerShreyaConvenerTeam2020KrittiManagerSiddhantTripathySecretaryConvenersAnanyaConvenerAneeshConvenerDevanshConvenerHarshdaConvenerMananConvenerOmkarConvenerSohamConvenerSreemanConvenerUnnateeConvenerVaishnavConvenerTeam2019VedantShenoyManagerKunalDeshmukhSecretaryConvenersArshConvenerFathimaConvenerKrittiConvenerPranavConvenerShravanConvenerSiddhantConvener\n"
     ]
    }
   ],
   "source": [
    "from io import StringIO\n",
    "import pandas as pd\n",
    "import requests\n",
    "from bs4 import BeautifulSoup\n",
    "url = \"https://krittikaiitb.github.io/team/\"\n",
    "\n",
    "# Step 1: Get the HTML\n",
    "r = requests.get(url)\n",
    "htmlContent = r.content\n",
    "# print(htmlContent)\n",
    "\n",
    "# Step 2: Parse the HTML\n",
    "soup = BeautifulSoup(htmlContent, 'html.parser')\n",
    "#print(soup.prettify)\n",
    "text = soup.get_text()\n",
    "text1=str(text)\n",
    "text1=text1.replace(\" \",\"\")\n",
    "#print(text1)\n",
    "text2 = text1.replace(\"JoinusonCopyright·KrittikaTeam\", \"\")\n",
    "text3 = text2[61:]\n",
    "data=text3\n",
    "print(data)\n"
   ]
  }
 ],
 "metadata": {
  "kernelspec": {
   "display_name": "Python 3 (ipykernel)",
   "language": "python",
   "name": "python3"
  },
  "language_info": {
   "codemirror_mode": {
    "name": "ipython",
    "version": 3
   },
   "file_extension": ".py",
   "mimetype": "text/x-python",
   "name": "python",
   "nbconvert_exporter": "python",
   "pygments_lexer": "ipython3",
   "version": "3.9.13"
  }
 },
 "nbformat": 4,
 "nbformat_minor": 5
}
